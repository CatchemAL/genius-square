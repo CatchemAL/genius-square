{
 "cells": [
  {
   "cell_type": "markdown",
   "metadata": {},
   "source": [
    "## Every solution, everywhere, all at once\n",
    "In this notebook, we ignore the dice and simply check the number of solutions to every possible combination imaginable. \n",
    "\n",
    "There are $36C7 = 8,347,680$ mask configurations. Let's compute every possible solution to every possible problem.\n",
    "\n",
    "Some configurations have more than 100,000 solutions and the average configuration has 1,364 valid solutions so this requires us to find 11,387,941,312 solutions... In 48 minutes on a laptop. Not too shabby."
   ]
  },
  {
   "cell_type": "code",
   "execution_count": 14,
   "metadata": {},
   "outputs": [],
   "source": [
    "import math\n",
    "from concurrent.futures import ProcessPoolExecutor\n",
    "from itertools import combinations, zip_longest\n",
    "\n",
    "from genius_square import Printer, Side\n",
    "from genius_square.experimental import GameState, Solver\n",
    "from tqdm import tqdm"
   ]
  },
  {
   "cell_type": "code",
   "execution_count": 37,
   "metadata": {},
   "outputs": [
    {
     "name": "stderr",
     "output_type": "stream",
     "text": [
      "100%|██████████| 8347680/8347680 [48:42<00:00, 2856.61it/s]  \n"
     ]
    },
    {
     "data": {
      "text/html": [
       "<div><style>\n",
       ".dataframe > thead > tr,\n",
       ".dataframe > tbody > tr {\n",
       "  text-align: right;\n",
       "  white-space: pre-wrap;\n",
       "}\n",
       "</style>\n",
       "<small>shape: (8_347_680, 2)</small><table border=\"1\" class=\"dataframe\"><thead><tr><th>mask</th><th>soln_count</th></tr><tr><td>i64</td><td>i32</td></tr></thead><tbody><tr><td>1850</td><td>0</td></tr><tr><td>2869</td><td>0</td></tr><tr><td>2870</td><td>0</td></tr><tr><td>3382</td><td>0</td></tr><tr><td>3386</td><td>0</td></tr><tr><td>&hellip;</td><td>&hellip;</td></tr><tr><td>52914536063008</td><td>100593</td></tr><tr><td>69269232549889</td><td>100593</td></tr><tr><td>69269232549920</td><td>100593</td></tr><tr><td>69273527517184</td><td>100593</td></tr><tr><td>69406671503360</td><td>100593</td></tr></tbody></table></div>"
      ],
      "text/plain": [
       "shape: (8_347_680, 2)\n",
       "┌────────────────┬────────────┐\n",
       "│ mask           ┆ soln_count │\n",
       "│ ---            ┆ ---        │\n",
       "│ i64            ┆ i32        │\n",
       "╞════════════════╪════════════╡\n",
       "│ 1850           ┆ 0          │\n",
       "│ 2869           ┆ 0          │\n",
       "│ 2870           ┆ 0          │\n",
       "│ 3382           ┆ 0          │\n",
       "│ 3386           ┆ 0          │\n",
       "│ …              ┆ …          │\n",
       "│ 52914536063008 ┆ 100593     │\n",
       "│ 69269232549889 ┆ 100593     │\n",
       "│ 69269232549920 ┆ 100593     │\n",
       "│ 69273527517184 ┆ 100593     │\n",
       "│ 69406671503360 ┆ 100593     │\n",
       "└────────────────┴────────────┘"
      ]
     },
     "execution_count": 37,
     "metadata": {},
     "output_type": "execute_result"
    }
   ],
   "source": [
    "def get_every_possible_mask(r: int = 7) -> list[int]:\n",
    "    letters = \"ABCDEF\"\n",
    "    numbers = (1, 2, 3, 4, 5, 6)\n",
    "    all_sides = [Side(f\"{letter}{number}\") for letter in letters for number in numbers]\n",
    "    return [sum(tup) for tup in combinations(all_sides, r)]\n",
    "\n",
    "\n",
    "# Calculate the number of valid solutions for all possible dice rolls\n",
    "def count_mask(mask: int) -> tuple[int, int]:\n",
    "    solver = Solver()\n",
    "    state = GameState(mask)\n",
    "    soln_count = solver.count_solns(state)\n",
    "    return mask, soln_count\n",
    "\n",
    "\n",
    "# There are 8,347,680 configuations from 7 dice.\n",
    "all_masks = get_every_possible_mask()\n",
    "assert len(all_masks) == math.comb(36, 7)\n",
    "\n",
    "masks = all_masks\n",
    "with ProcessPoolExecutor() as executor:\n",
    "    results = list(tqdm(executor.map(count_mask, masks, chunksize=1024), total=len(masks)))\n",
    "    results = sorted(results, key=lambda x: (x[1], x[0]))\n",
    "\n",
    "count_by_mask = dict(results)\n",
    "print(f\"Solution counts for all {len(count_by_mask):,} possible configurations\")\n"
   ]
  },
  {
   "cell_type": "code",
   "execution_count": 914,
   "metadata": {},
   "outputs": [
    {
     "data": {
      "text/html": [
       "<div><style>\n",
       ".dataframe > thead > tr,\n",
       ".dataframe > tbody > tr {\n",
       "  text-align: right;\n",
       "  white-space: pre-wrap;\n",
       "}\n",
       "</style>\n",
       "<small>shape: (8_347_680, 2)</small><table border=\"1\" class=\"dataframe\"><thead><tr><th>mask</th><th>soln_count</th></tr><tr><td>i64</td><td>i32</td></tr></thead><tbody><tr><td>1850</td><td>0</td></tr><tr><td>2869</td><td>0</td></tr><tr><td>2870</td><td>0</td></tr><tr><td>3382</td><td>0</td></tr><tr><td>3386</td><td>0</td></tr><tr><td>&hellip;</td><td>&hellip;</td></tr><tr><td>52914536063008</td><td>100593</td></tr><tr><td>69269232549889</td><td>100593</td></tr><tr><td>69269232549920</td><td>100593</td></tr><tr><td>69273527517184</td><td>100593</td></tr><tr><td>69406671503360</td><td>100593</td></tr></tbody></table></div>"
      ],
      "text/plain": [
       "shape: (8_347_680, 2)\n",
       "┌────────────────┬────────────┐\n",
       "│ mask           ┆ soln_count │\n",
       "│ ---            ┆ ---        │\n",
       "│ i64            ┆ i32        │\n",
       "╞════════════════╪════════════╡\n",
       "│ 1850           ┆ 0          │\n",
       "│ 2869           ┆ 0          │\n",
       "│ 2870           ┆ 0          │\n",
       "│ 3382           ┆ 0          │\n",
       "│ 3386           ┆ 0          │\n",
       "│ …              ┆ …          │\n",
       "│ 52914536063008 ┆ 100593     │\n",
       "│ 69269232549889 ┆ 100593     │\n",
       "│ 69269232549920 ┆ 100593     │\n",
       "│ 69273527517184 ┆ 100593     │\n",
       "│ 69406671503360 ┆ 100593     │\n",
       "└────────────────┴────────────┘"
      ]
     },
     "execution_count": 914,
     "metadata": {},
     "output_type": "execute_result"
    }
   ],
   "source": [
    "import polars as pl\n",
    "\n",
    "df = (\n",
    "    pl.DataFrame({\"mask\": count_by_mask.keys(), \"soln_count\": count_by_mask.values()})\n",
    "    .select(\"mask\", pl.col(\"soln_count\").cast(pl.Int32))\n",
    "    .sort(\"soln_count\", \"mask\")\n",
    ")\n",
    "\n",
    "df.write_parquet(\"../data/every_possible_solution.pq\")\n",
    "df"
   ]
  },
  {
   "cell_type": "code",
   "execution_count": 8,
   "metadata": {},
   "outputs": [
    {
     "data": {
      "text/html": [
       "<div><style>\n",
       ".dataframe > thead > tr,\n",
       ".dataframe > tbody > tr {\n",
       "  text-align: right;\n",
       "  white-space: pre-wrap;\n",
       "}\n",
       "</style>\n",
       "<small>shape: (9, 3)</small><table border=\"1\" class=\"dataframe\"><thead><tr><th>statistic</th><th>mask</th><th>soln_count</th></tr><tr><td>str</td><td>f64</td><td>f64</td></tr></thead><tbody><tr><td>&quot;count&quot;</td><td>8.34768e6</td><td>8.34768e6</td></tr><tr><td>&quot;null_count&quot;</td><td>0.0</td><td>0.0</td></tr><tr><td>&quot;mean&quot;</td><td>1.3522e13</td><td>1364.204343</td></tr><tr><td>&quot;std&quot;</td><td>1.5628e13</td><td>2081.973343</td></tr><tr><td>&quot;min&quot;</td><td>319.0</td><td>0.0</td></tr><tr><td>&quot;25%&quot;</td><td>1.0996e12</td><td>280.0</td></tr><tr><td>&quot;50%&quot;</td><td>6.6144e12</td><td>719.0</td></tr><tr><td>&quot;75%&quot;</td><td>2.0891e13</td><td>1624.0</td></tr><tr><td>&quot;max&quot;</td><td>6.9407e13</td><td>100593.0</td></tr></tbody></table></div>"
      ],
      "text/plain": [
       "shape: (9, 3)\n",
       "┌────────────┬───────────┬─────────────┐\n",
       "│ statistic  ┆ mask      ┆ soln_count  │\n",
       "│ ---        ┆ ---       ┆ ---         │\n",
       "│ str        ┆ f64       ┆ f64         │\n",
       "╞════════════╪═══════════╪═════════════╡\n",
       "│ count      ┆ 8.34768e6 ┆ 8.34768e6   │\n",
       "│ null_count ┆ 0.0       ┆ 0.0         │\n",
       "│ mean       ┆ 1.3522e13 ┆ 1364.204343 │\n",
       "│ std        ┆ 1.5628e13 ┆ 2081.973343 │\n",
       "│ min        ┆ 319.0     ┆ 0.0         │\n",
       "│ 25%        ┆ 1.0996e12 ┆ 280.0       │\n",
       "│ 50%        ┆ 6.6144e12 ┆ 719.0       │\n",
       "│ 75%        ┆ 2.0891e13 ┆ 1624.0      │\n",
       "│ max        ┆ 6.9407e13 ┆ 100593.0    │\n",
       "└────────────┴───────────┴─────────────┘"
      ]
     },
     "execution_count": 8,
     "metadata": {},
     "output_type": "execute_result"
    }
   ],
   "source": [
    "import polars as pl\n",
    "\n",
    "df = pl.read_parquet(\"../data/every_possible_solution.pq\")\n",
    "df.describe()"
   ]
  },
  {
   "cell_type": "code",
   "execution_count": 24,
   "metadata": {},
   "outputs": [
    {
     "data": {
      "text/html": [
       "<div><style>\n",
       ".dataframe > thead > tr,\n",
       ".dataframe > tbody > tr {\n",
       "  text-align: right;\n",
       "  white-space: pre-wrap;\n",
       "}\n",
       "</style>\n",
       "<small>shape: (800, 2)</small><table border=\"1\" class=\"dataframe\"><thead><tr><th>mask</th><th>soln_count</th></tr><tr><td>i64</td><td>i32</td></tr></thead><tbody><tr><td>2823176</td><td>1</td></tr><tr><td>3475972</td><td>1</td></tr><tr><td>19008784</td><td>1</td></tr><tr><td>19139332</td><td>1</td></tr><tr><td>20187652</td><td>1</td></tr><tr><td>&hellip;</td><td>&hellip;</td></tr><tr><td>39694625669120</td><td>1</td></tr><tr><td>43980549136400</td><td>1</td></tr><tr><td>43984760603658</td><td>1</td></tr><tr><td>44066383331332</td><td>1</td></tr><tr><td>44066634993664</td><td>1</td></tr></tbody></table></div>"
      ],
      "text/plain": [
       "shape: (800, 2)\n",
       "┌────────────────┬────────────┐\n",
       "│ mask           ┆ soln_count │\n",
       "│ ---            ┆ ---        │\n",
       "│ i64            ┆ i32        │\n",
       "╞════════════════╪════════════╡\n",
       "│ 2823176        ┆ 1          │\n",
       "│ 3475972        ┆ 1          │\n",
       "│ 19008784       ┆ 1          │\n",
       "│ 19139332       ┆ 1          │\n",
       "│ 20187652       ┆ 1          │\n",
       "│ …              ┆ …          │\n",
       "│ 39694625669120 ┆ 1          │\n",
       "│ 43980549136400 ┆ 1          │\n",
       "│ 43984760603658 ┆ 1          │\n",
       "│ 44066383331332 ┆ 1          │\n",
       "│ 44066634993664 ┆ 1          │\n",
       "└────────────────┴────────────┘"
      ]
     },
     "execution_count": 24,
     "metadata": {},
     "output_type": "execute_result"
    }
   ],
   "source": [
    "# Let's look at configurations that have only one solution\n",
    "single_solutions = df.filter(pl.col(\"soln_count\") == 1)\n",
    "single_solutions"
   ]
  },
  {
   "cell_type": "code",
   "execution_count": 25,
   "metadata": {},
   "outputs": [
    {
     "name": "stdout",
     "output_type": "stream",
     "text": [
      "Configuration with only 1 solution.\n"
     ]
    },
    {
     "data": {
      "text/plain": [
       "🟫🟨🟨🟨🟪🟪\n",
       "🟫🔘🟨⬜️🔘🟪\n",
       "🔘🟩🟩⬜️🟥🔘\n",
       "🟦🟩🟩⬜️🟥🟥\n",
       "🟦🔘⬛️⬜️🔘🟥\n",
       "🟦🟦🔘🟧🟧🟧"
      ]
     },
     "execution_count": 25,
     "metadata": {},
     "output_type": "execute_result"
    }
   ],
   "source": [
    "# An insanely hard puzzle to solve.\n",
    "found_mask = single_solutions[\"mask\"][180]\n",
    "solver = Solver()\n",
    "state = GameState(found_mask)\n",
    "soln_count = solver.count_solns(state)\n",
    "print(f\"Configuration with only {soln_count} solution.\")\n",
    "solver.solve(state)\n",
    "state"
   ]
  },
  {
   "cell_type": "code",
   "execution_count": 28,
   "metadata": {},
   "outputs": [
    {
     "name": "stdout",
     "output_type": "stream",
     "text": [
      "INSANELY HARD PUZZLES\n",
      "1\n",
      "🟩🟩⬜️⬜️⬜️⬜️    ⬜️⬜️⬜️⬜️🟩🟩    🟩🟩⬜️⬜️⬜️⬜️    🟩🟩🟨🟨🟨🟧    🟩🟩⬜️⬜️⬜️⬜️    🟧🟩🟩🟨🟨🟨    🟧🟩🟩🟨🟨🟨    🟨⬜️⬜️⬜️⬜️🟧\n",
      "🟩🟩🟨🟨🟨🟥    🟥🟨🟨🟨🟩🟩    🟩🟩🟨🟧🟧🟧    🟩🟩🟥🟨⬜️🟧    🟩🟩🟥🟨🟪🟪    🟧🟩🟩⬜️🟨🟥    🟧🟩🟩⬜️🟨🟥    🟨🟨🟩🟩🟦🟧\n",
      "🟦🟦🟦🟨🟥🟥    🟥🟥🟨🟦🟦🟦    🔘🟨🟨🟦🟦🟦    🔘🟪🟥🟥⬜️🟧    🔘🟥🟥🟨🟨🟪    🟧🔘🟪⬜️🟥🟥    🟧🔘🟪⬜️🟥🟥    🟨🔘🟩🟩🟦🟧\n",
      "🔘🔘🟦🔘🟥🔘    🔘🟥🔘🟦🔘🔘    ⬛️🔘🟨🟦🟥🔘    🟪🟪🔘🟥⬜️🔘    🟦🟥🔘🟨🔘🔘    🔘🟪🟪⬜️🟥🟦    🔘🟪🟪⬜️🟥🟦    🔘⬛️🔘🟥🟦🟦\n",
      "🟫🟫🔘⬛️🔘🟪    🟪🔘⬛️🔘🟫🟫    🔘🟪🔘🔘🟥🟥    🔘🔘⬛️🔘⬜️🟦    🟦🔘⬛️🔘🟫🟫    ⬛️🔘🔘⬜️🔘🟦    🟫🔘🔘⬜️🔘🟦    🟫🔘🟥🟥🔘🟪\n",
      "🟧🟧🟧🔘🟪🟪    🟪🟪🔘🟧🟧🟧    🟪🟪🟫🟫🔘🟥    🟫🟫🔘🟦🟦🟦    🟦🟦🔘🟧🟧🟧    🔘🟫🟫🔘🟦🟦    🟫🔘⬛️🔘🟦🟦    🟫🔘🟥🔘🟪🟪\n",
      "2\n",
      "🟨⬜️⬜️⬜️⬜️🟧    🟨⬜️⬜️⬜️⬜️🟧    ⬜️⬜️⬜️⬜️🟩🟩    🟩🟩🟧🟧🟧🟨    ⬜️⬜️⬜️⬜️🟩🟩    ⬜️⬜️⬜️⬜️🟩🟩    🟦🟦🟨🟨🟨🟧    🟨🟧🟧🟧🟦🟦\n",
      "🟨🟨🟩🟩🟦🟧    🟨🟨🟩🟩🟦🟧    🟦🟨🟨🟨🟩🟩    🟩🟩🟦🟥🟨🟨    🟫🟧🟧🟧🟩🟩    🟦🟨🟨🟨🟩🟩    🟦🟥🟥🟨⬜️🟧    🟨🟨🟩🟩⬜️🟦\n",
      "🟨🔘🟩🟩🟦🟧    🟨🔘🟩🟩🟦🟧    🟦🔘🟨🟧🟧🟧    ⬜️🔘🟦🟥🟥🟨    🟫🔘🟥🟨🟨🟨    🟦🔘🟨🟧🟧🟧    🟦🔘🟥🟥⬜️🟧    🟨🔘🟩🟩⬜️🟦\n",
      "🔘⬛️🔘🔘🟦🟦    🔘🟥🔘🔘🟦🟦    🟦🟦🔘🟥🟥🔘    ⬜️🟦🟦🔘🟥🔘    🔘🟥🟥🔘🟨🔘    🟦🟦🔘🔘🟥🔘    🔘⬛️🔘🔘⬜️🔘    🔘⬛️🔘🔘⬜️🔘\n",
      "🟫🔘🟥🟥🔘🟪    🟥🟥🔘⬛️🔘🟪    🟪🔘🟥🟥🔘🟫    ⬜️🔘🔘⬛️🔘🟪    🟦🟥🔘⬛️🔘🟪    🟪🔘⬛️🔘🟥🟥    🟫🔘🟩🟩⬜️🟪    🟪🔘🟥🟥⬜️🟫\n",
      "🟫🟥🟥🔘🟪🟪    🟥🟫🟫🔘🟪🟪    🟪🟪🔘⬛️🔘🟫    ⬜️🟫🟫🔘🟪🟪    🟦🟦🟦🔘🟪🟪    🟪🟪🔘🟫🟫🟥    🟫🔘🟩🟩🟪🟪    🟪🟪🔘🟥🟥🟫\n",
      "3\n",
      "🟥🟥⬜️⬜️⬜️⬜️    🟨🟧🟧🟧🟩🟩    🟥🟨🟨🟨🟩🟩    🟩🟩🟧🟧🟧🟨    🟦🟦⬜️⬜️⬜️⬜️    ⬜️⬜️⬜️⬜️🟩🟩    🟨🟧🟧🟧🟩🟩    🟩🟩⬜️⬜️⬜️⬜️\n",
      "🟦🟥🟥🟨🟩🟩    🟨🟨🟫🟫🟩🟩    🟥🟥🟨🟦🟩🟩    🟩🟩🟫🟫🟨🟨    🟦🟨🟨🟨🟩🟩    🟫🟨🟨🟨🟩🟩    🟨🟨🟥🟦🟩🟩    🟩🟩🟨🟨🟨🟦\n",
      "🟦🔘🟨🟨🟩🟩    🟨🟥🔘🟦🟦⬜️    🔘🟥🔘🟦🟧⬜️    ⬜️🟦🟦🔘🟥🟨    🟦🔘🟨🔘🟩🟩    🟫🔘🟨🔘🟥🟥    🟨🟥🟥🟦🔘⬜️    🟧🟧🟧🟨🔘🟦\n",
      "🟦🟦🔘🟨🔘🔘    🔘🟥🟥🔘🟦⬜️    ⬛️🔘🟦🟦🟧⬜️    ⬜️🟦🔘🟥🟥🔘    🔘⬛️🔘🟧🟧🟧    🔘⬛️🔘🟥🟥🟧    🔘🟥🔘🟦🟦⬜️    🔘🟥🟥🔘🟦🟦\n",
      "🟪🔘⬛️🔘🟫🟫    🟪🔘🟥🔘🟦⬜️    🔘🟪🔘🔘🟧⬜️    ⬜️🟦🔘🟥🔘🟪    🟫🔘🟥🟥🔘🟪    🟪🔘🟦🔘🔘🟧    🟪🔘⬛️🔘🔘⬜️    🟫🔘🟥🟥🔘🟪\n",
      "🟪🟪🔘🟧🟧🟧    🟪🟪🔘⬛️🔘⬜️    🟪🟪🟫🟫🔘⬜️    ⬜️🔘⬛️🔘🟪🟪    🟫🟥🟥🔘🟪🟪    🟪🟪🟦🟦🟦🟧    🟪🟪🔘🟫🟫⬜️    🟫🔘⬛️🔘🟪🟪\n",
      "etc.\n"
     ]
    }
   ],
   "source": [
    "# Let's build a pretty report of single solutions...\n",
    "def create_report(solve: bool = False) -> None:\n",
    "    solver = Solver()\n",
    "    printer = Printer(empty_piece=\"🫥\")\n",
    "\n",
    "    solns = []\n",
    "    for i, mask in enumerate(single_solutions[\"mask\"], start=1):\n",
    "        state = GameState(mask)\n",
    "        if solve:\n",
    "            solver.solve(state)\n",
    "        repr = printer.str_repr(state.board, state.history)\n",
    "        solns.append(repr)\n",
    "\n",
    "    output = \"\\n\".join(solns)\n",
    "\n",
    "    lines = output.strip().split(\"\\n\")\n",
    "    solutions = [lines[i : i + 6] for i in range(0, len(lines), 6)]\n",
    "    grouped_solutions = [solutions[i : i + 8] for i in range(0, len(solutions), 8)]\n",
    "\n",
    "    interleaved = []\n",
    "    for i, group in enumerate(grouped_solutions, start=1):\n",
    "        interleaved.append(f\"{i}\")\n",
    "        interleaved.extend(\n",
    "            [\"    \".join(row) for row in zip_longest(*group, fillvalue=\" \" * 6)]  # Join rows side-by-side\n",
    "        )\n",
    "        if i % 10 == 0:\n",
    "            interleaved.append(\"\")\n",
    "            interleaved.append(\"\")\n",
    "        # if i > 2:\n",
    "        #     interleaved.append(\"etc.\")\n",
    "        #     break\n",
    "\n",
    "    print(\"INSANELY HARD PUZZLES\")\n",
    "    print(\"\\n\".join(interleaved))\n",
    "\n",
    "\n",
    "create_report(True)"
   ]
  }
 ],
 "metadata": {
  "kernelspec": {
   "display_name": ".venv",
   "language": "python",
   "name": "python3"
  },
  "language_info": {
   "codemirror_mode": {
    "name": "ipython",
    "version": 3
   },
   "file_extension": ".py",
   "mimetype": "text/x-python",
   "name": "python",
   "nbconvert_exporter": "python",
   "pygments_lexer": "ipython3",
   "version": "3.12.7"
  }
 },
 "nbformat": 4,
 "nbformat_minor": 2
}
