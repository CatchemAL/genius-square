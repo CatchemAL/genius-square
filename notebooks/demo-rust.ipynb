{
 "cells": [
  {
   "cell_type": "code",
   "execution_count": 1,
   "metadata": {},
   "outputs": [],
   "source": [
    "from concurrent.futures import ProcessPoolExecutor\n",
    "\n",
    "from genius_square import Dice, Side\n",
    "from genius_square.experimental import GameState, Solver  # These are the rust replacements\n",
    "from tqdm import tqdm"
   ]
  },
  {
   "cell_type": "code",
   "execution_count": 2,
   "metadata": {},
   "outputs": [
    {
     "data": {
      "text/plain": [
       "[Side(\"F1\"),\n",
       " Side(\"C4\"),\n",
       " Side(\"E2\"),\n",
       " Side(\"B1\"),\n",
       " Side(\"E6\"),\n",
       " Side(\"C5\"),\n",
       " Side(\"E1\")]"
      ]
     },
     "execution_count": 2,
     "metadata": {},
     "output_type": "execute_result"
    }
   ],
   "source": [
    "# First we take a random roll of the dice.\n",
    "dice = Dice()\n",
    "sides = dice.roll()\n",
    "sides"
   ]
  },
  {
   "cell_type": "code",
   "execution_count": 3,
   "metadata": {},
   "outputs": [
    {
     "data": {
      "text/plain": [
       "🫥🫥🫥🫥🫥🫥\n",
       "🔘🫥🫥🫥🫥🫥\n",
       "🫥🫥🫥🔘🔘🫥\n",
       "🫥🫥🫥🫥🫥🫥\n",
       "🔘🔘🫥🫥🫥🔘\n",
       "🔘🫥🫥🫥🫥🫥"
      ]
     },
     "execution_count": 3,
     "metadata": {},
     "output_type": "execute_result"
    }
   ],
   "source": [
    "# Visualise the board with just the blockers\n",
    "blocker_mask = sum(sides)\n",
    "state = GameState(blocker_mask)\n",
    "state"
   ]
  },
  {
   "cell_type": "code",
   "execution_count": 4,
   "metadata": {},
   "outputs": [
    {
     "data": {
      "text/plain": [
       "🟫🟫🟨🟧🟧🟧\n",
       "🔘🟥🟨🟨🟦🟦\n",
       "🟥🟥🟨🔘🔘🟦\n",
       "🟥⬜️⬜️⬜️⬜️🟦\n",
       "🔘🔘🟪🟩🟩🔘\n",
       "🔘🟪🟪🟩🟩⬛️"
      ]
     },
     "execution_count": 4,
     "metadata": {},
     "output_type": "execute_result"
    }
   ],
   "source": [
    "# Now we solve the game and redisplay the state.\n",
    "solver = Solver()\n",
    "solver.solve(state)\n",
    "state"
   ]
  },
  {
   "cell_type": "code",
   "execution_count": 5,
   "metadata": {},
   "outputs": [
    {
     "data": {
      "text/plain": [
       "🔘⬜️⬜️⬜️⬜️🟥\n",
       "🟧🟫🟫🔘🟥🟥\n",
       "🟧🔘🟨🟦🟥🔘\n",
       "🟧🟨🟨🟦🟦🟦\n",
       "🔘🟪🟨🟩🟩🔘\n",
       "🔘🟪🟪🟩🟩⬛️"
      ]
     },
     "execution_count": 5,
     "metadata": {},
     "output_type": "execute_result"
    }
   ],
   "source": [
    "# Creating a custom board from cooordinates\n",
    "coords = [\"F1\", \"B4\", \"A1\", \"C2\", \"E6\", \"C6\", \"E1\"]\n",
    "sides = [Side(coord) for coord in coords]\n",
    "blocker_mask = sum(sides)\n",
    "state = GameState(blocker_mask)\n",
    "solver.solve(state)\n",
    "state"
   ]
  },
  {
   "cell_type": "code",
   "execution_count": 11,
   "metadata": {},
   "outputs": [
    {
     "name": "stderr",
     "output_type": "stream",
     "text": [
      "100%|██████████| 62208/62208 [00:00<00:00, 344362.86it/s]"
     ]
    },
    {
     "name": "stdout",
     "output_type": "stream",
     "text": [
      "All 62,208 possible combinations solved. ✨\n"
     ]
    },
    {
     "name": "stderr",
     "output_type": "stream",
     "text": [
      "\n"
     ]
    }
   ],
   "source": [
    "# Validate all possible dice rolls\n",
    "def solve_mask(mask: int) -> None:\n",
    "    solver = Solver()\n",
    "    state = GameState(mask)\n",
    "    solver.solve(state)\n",
    "\n",
    "\n",
    "masks = dice.all_bitmasks()\n",
    "with ProcessPoolExecutor() as executor:\n",
    "    list(tqdm(executor.map(solve_mask, masks, chunksize=64), total=len(masks)))\n",
    "\n",
    "print(f\"All {len(masks):,} possible combinations solved. ✨\")"
   ]
  },
  {
   "cell_type": "code",
   "execution_count": 7,
   "metadata": {},
   "outputs": [
    {
     "name": "stderr",
     "output_type": "stream",
     "text": [
      "100%|██████████| 62208/62208 [00:27<00:00, 2303.44it/s]\n"
     ]
    }
   ],
   "source": [
    "# Calculate the number of valid solutions for all possible dice rolls.\n",
    "def count_mask(mask: int) -> tuple[int, int]:\n",
    "    solver = Solver()\n",
    "    state = GameState(mask)\n",
    "    soln_count = solver.count_solns(state)\n",
    "    return mask, soln_count\n",
    "\n",
    "\n",
    "masks = dice.all_bitmasks()\n",
    "with ProcessPoolExecutor() as executor:\n",
    "    results = list(tqdm(executor.map(count_mask, masks, chunksize=16), total=len(masks)))\n",
    "    results = sorted(results, key=lambda x: (x[1], x[0]))\n",
    "\n",
    "count_by_mask = dict(results)"
   ]
  },
  {
   "cell_type": "markdown",
   "metadata": {},
   "source": [
    "If you have polars and seaborn, you can visualize the distribution of possible solutions."
   ]
  },
  {
   "cell_type": "code",
   "execution_count": 8,
   "metadata": {},
   "outputs": [
    {
     "data": {
      "text/html": [
       "<div><style>\n",
       ".dataframe > thead > tr,\n",
       ".dataframe > tbody > tr {\n",
       "  text-align: right;\n",
       "  white-space: pre-wrap;\n",
       "}\n",
       "</style>\n",
       "<small>shape: (9, 3)</small><table border=\"1\" class=\"dataframe\"><thead><tr><th>statistic</th><th>mask</th><th>soln_count</th></tr><tr><td>str</td><td>f64</td><td>f64</td></tr></thead><tbody><tr><td>&quot;count&quot;</td><td>62208.0</td><td>62208.0</td></tr><tr><td>&quot;null_count&quot;</td><td>0.0</td><td>0.0</td></tr><tr><td>&quot;mean&quot;</td><td>2.4796e13</td><td>1936.486497</td></tr><tr><td>&quot;std&quot;</td><td>1.9517e13</td><td>1981.034039</td></tr><tr><td>&quot;min&quot;</td><td>3.3555503e7</td><td>11.0</td></tr><tr><td>&quot;25%&quot;</td><td>2.4052e12</td><td>715.0</td></tr><tr><td>&quot;50%&quot;</td><td>3.5184e13</td><td>1340.0</td></tr><tr><td>&quot;75%&quot;</td><td>3.7590e13</td><td>2414.0</td></tr><tr><td>&quot;max&quot;</td><td>6.7105e13</td><td>22317.0</td></tr></tbody></table></div>"
      ],
      "text/plain": [
       "shape: (9, 3)\n",
       "┌────────────┬─────────────┬─────────────┐\n",
       "│ statistic  ┆ mask        ┆ soln_count  │\n",
       "│ ---        ┆ ---         ┆ ---         │\n",
       "│ str        ┆ f64         ┆ f64         │\n",
       "╞════════════╪═════════════╪═════════════╡\n",
       "│ count      ┆ 62208.0     ┆ 62208.0     │\n",
       "│ null_count ┆ 0.0         ┆ 0.0         │\n",
       "│ mean       ┆ 2.4796e13   ┆ 1936.486497 │\n",
       "│ std        ┆ 1.9517e13   ┆ 1981.034039 │\n",
       "│ min        ┆ 3.3555503e7 ┆ 11.0        │\n",
       "│ 25%        ┆ 2.4052e12   ┆ 715.0       │\n",
       "│ 50%        ┆ 3.5184e13   ┆ 1340.0      │\n",
       "│ 75%        ┆ 3.7590e13   ┆ 2414.0      │\n",
       "│ max        ┆ 6.7105e13   ┆ 22317.0     │\n",
       "└────────────┴─────────────┴─────────────┘"
      ]
     },
     "execution_count": 8,
     "metadata": {},
     "output_type": "execute_result"
    },
    {
     "data": {
      "image/png": "[encoded data removed]",
      "text/plain": [
       "<Figure size 640x480 with 1 Axes>"
      ]
     },
     "metadata": {},
     "output_type": "display_data"
    }
   ],
   "source": [
    "from pathlib import Path\n",
    "\n",
    "import polars as pl\n",
    "import seaborn as sns\n",
    "\n",
    "sns.set_theme()\n",
    "\n",
    "# Load the results into a DataFrame...\n",
    "df = pl.DataFrame(\n",
    "    {\n",
    "        \"mask\": count_by_mask.keys(),\n",
    "        \"soln_count\": count_by_mask.values(),\n",
    "    }\n",
    ").sort(\"soln_count\", \"mask\")\n",
    "\n",
    "# NOTE ...or just read from data if you have it.\n",
    "# data_path = Path(\"..\") / \"data\" / \"solutions.csv\"\n",
    "# df = pl.read_csv(data_path)\n",
    "\n",
    "ax = sns.histplot(df, x=\"soln_count\", bins=200, kde=True, stat=\"probability\")\n",
    "ax.set_xlim(0, None)\n",
    "df.describe()"
   ]
  },
  {
   "cell_type": "code",
   "execution_count": 9,
   "metadata": {},
   "outputs": [
    {
     "name": "stdout",
     "output_type": "stream",
     "text": [
      "Configuration with 11 solutions.\n"
     ]
    },
    {
     "data": {
      "text/plain": [
       "🫥🫥🫥🫥🫥🔘\n",
       "🔘🫥🫥🫥🔘🫥\n",
       "🫥🫥🫥🫥🫥🫥\n",
       "🔘🫥🫥🫥🫥🫥\n",
       "🫥🫥🔘🫥🫥🫥\n",
       "🫥🔘🫥🔘🫥🫥"
      ]
     },
     "execution_count": 9,
     "metadata": {},
     "output_type": "execute_result"
    }
   ],
   "source": [
    "# The 'hardest' puzzle to solve.\n",
    "hardest_mask = df[\"mask\"][1]\n",
    "print(f'Configuration with {df['soln_count'][1]} solutions.')\n",
    "GameState(hardest_mask)"
   ]
  },
  {
   "cell_type": "code",
   "execution_count": 10,
   "metadata": {},
   "outputs": [
    {
     "name": "stdout",
     "output_type": "stream",
     "text": [
      "Configuration with 22,317 solutions.\n"
     ]
    },
    {
     "data": {
      "text/plain": [
       "🔘🫥🔘🔘🔘🔘\n",
       "🫥🫥🫥🫥🫥🫥\n",
       "🫥🫥🫥🫥🫥🫥\n",
       "🫥🫥🫥🫥🫥🫥\n",
       "🫥🫥🔘🔘🫥🫥\n",
       "🫥🫥🫥🫥🫥🫥"
      ]
     },
     "execution_count": 10,
     "metadata": {},
     "output_type": "execute_result"
    }
   ],
   "source": [
    "# The 'easiest' puzzle to solve.\n",
    "easiest_mask = df[\"mask\"][-1]\n",
    "print(f'Configuration with {df['soln_count'][-1]:,} solutions.')\n",
    "GameState(easiest_mask)"
   ]
  }
 ],
 "metadata": {
  "kernelspec": {
   "display_name": ".venv",
   "language": "python",
   "name": "python3"
  },
  "language_info": {
   "codemirror_mode": {
    "name": "ipython",
    "version": 3
   },
   "file_extension": ".py",
   "mimetype": "text/x-python",
   "name": "python",
   "nbconvert_exporter": "python",
   "pygments_lexer": "ipython3",
   "version": "3.12.7"
  }
 },
 "nbformat": 4,
 "nbformat_minor": 2
}
